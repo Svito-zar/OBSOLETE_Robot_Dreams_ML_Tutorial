{
 "cells": [
  {
   "cell_type": "markdown",
   "metadata": {},
   "source": [
    "# Домашнее Задание 2: Метод к-ближайших соседей"
   ]
  },
  {
   "cell_type": "code",
   "execution_count": null,
   "metadata": {
    "collapsed": true
   },
   "outputs": [],
   "source": []
  },
  {
   "cell_type": "markdown",
   "metadata": {},
   "source": [
    "## Загружаем библиотеки"
   ]
  },
  {
   "cell_type": "code",
   "execution_count": 1,
   "metadata": {
    "collapsed": true
   },
   "outputs": [],
   "source": [
    "import numpy as np\n",
    "import pandas as pd\n",
    "import requests\n",
    "import csv\n",
    "import matplotlib.pyplot as plt\n",
    "%matplotlib inline\n",
    "\n",
    "from sklearn.neighbors import KNeighborsRegressor\n",
    "from sklearn.linear_model import LinearRegression\n",
    "from sklearn.preprocessing import PolynomialFeatures\n",
    "from sklearn.model_selection import train_test_split\n",
    "from sklearn import datasets\n",
    "from sklearn.metrics import mean_squared_error, r2_score\n",
    "from sklearn.pipeline import make_pipeline\n",
    "\n",
    "from scipy import stats\n",
    "from scipy.interpolate import interp1d\n",
    "from scipy import optimize\n",
    "\n",
    "import csv"
   ]
  },
  {
   "cell_type": "markdown",
   "metadata": {},
   "source": [
    "## Загружаем и анализируем датасет о смертности от рака в разных штатах"
   ]
  },
  {
   "cell_type": "code",
   "execution_count": 2,
   "metadata": {
    "collapsed": false
   },
   "outputs": [
    {
     "name": "stdout",
     "output_type": "stream",
     "text": [
      "Index(['avgAnnCount', 'avgDeathsPerYear', 'TARGET_deathRate', 'incidenceRate',\n",
      "       'medIncome', 'popEst2015', 'povertyPercent', 'studyPerCap', 'binnedInc',\n",
      "       'MedianAge', 'MedianAgeMale', 'MedianAgeFemale', 'Geography',\n",
      "       'AvgHouseholdSize', 'PercentMarried', 'PctNoHS18_24', 'PctHS18_24',\n",
      "       'PctSomeCol18_24', 'PctBachDeg18_24', 'PctHS25_Over',\n",
      "       'PctBachDeg25_Over', 'PctEmployed16_Over', 'PctUnemployed16_Over',\n",
      "       'PctPrivateCoverage', 'PctPrivateCoverageAlone', 'PctEmpPrivCoverage',\n",
      "       'PctPublicCoverage', 'PctPublicCoverageAlone', 'PctWhite', 'PctBlack',\n",
      "       'PctAsian', 'PctOtherRace', 'PctMarriedHouseholds', 'BirthRate',\n",
      "       'Unnamed: 34'],\n",
      "      dtype='object')\n"
     ]
    }
   ],
   "source": [
    "data_file = \"../data/cancer_regr.csv\"\n",
    "df = pd.read_csv(data_file, encoding = \"utf-8\" , engine='python')\n",
    "print(df.columns)\n"
   ]
  },
  {
   "cell_type": "markdown",
   "metadata": {},
   "source": [
    "### Объединяем"
   ]
  },
  {
   "cell_type": "code",
   "execution_count": 3,
   "metadata": {
    "collapsed": true,
    "scrolled": true
   },
   "outputs": [],
   "source": [
    "# и убираем Nans с помощью .dropna()\n",
    "df_poverty =  df['povertyPercent']\n",
    "df_incidence = df['incidenceRate']\n",
    "df_death_rate = df['TARGET_deathRate']\n",
    "df = pd.concat([df_poverty, df_incidence, df_death_rate], axis=1).dropna()\n"
   ]
  },
  {
   "cell_type": "markdown",
   "metadata": {},
   "source": [
    "## Найдем и уберем outlier"
   ]
  },
  {
   "cell_type": "code",
   "execution_count": 4,
   "metadata": {
    "collapsed": true
   },
   "outputs": [],
   "source": [
    "# Найти outlier\n",
    "z = np.abs(stats.zscore(df))\n",
    "threshold = 3\n",
    "\n",
    "# Убрать outlier\n",
    "df = df[(z < threshold).all(axis=1)]"
   ]
  },
  {
   "cell_type": "markdown",
   "metadata": {},
   "source": [
    "## Нормализируем дата"
   ]
  },
  {
   "cell_type": "code",
   "execution_count": 5,
   "metadata": {
    "collapsed": true
   },
   "outputs": [],
   "source": [
    "# Нормализируем данные\n",
    "\n",
    "# Poverty\n",
    "mu_poverty = df['povertyPercent'].mean()\n",
    "sigma_poverty = df['povertyPercent'].std()\n",
    "scaled_poverty = (df['povertyPercent'].values-mu_poverty)/sigma_poverty\n",
    "\n",
    "# Incident rate\n",
    "mu_incident = df['incidenceRate'].mean()\n",
    "sigma_incident = df['incidenceRate'].std()\n",
    "scaled_incident = (df['incidenceRate'].values-mu_incident)/sigma_incident\n",
    "\n",
    "x_data =np.array([scaled_poverty,scaled_incident]).transpose()\n",
    "\n",
    "# Death Rate\n",
    "mu_death_r = df['TARGET_deathRate'].mean()\n",
    "sigma_death_r = df['TARGET_deathRate'].std()\n",
    "scaled_death_r = (df['TARGET_deathRate'].values-mu_death_r)/sigma_death_r\n",
    "y_data = np.expand_dims(scaled_death_r, axis=1)"
   ]
  },
  {
   "cell_type": "markdown",
   "metadata": {},
   "source": [
    "## Разделяем дата на выборки"
   ]
  },
  {
   "cell_type": "code",
   "execution_count": 6,
   "metadata": {
    "collapsed": false
   },
   "outputs": [
    {
     "name": "stdout",
     "output_type": "stream",
     "text": [
      "Data points in train set: 2379.\n",
      "Data points in val set: 595.\n",
      "Shape of features in training data: (2379, 2)\n",
      "Shape of output in training data: (2379, 1)\n",
      "Shape of features in val data: (595, 2)\n",
      "Shape of output in val data: (595, 1)\n"
     ]
    }
   ],
   "source": [
    "# 20% данных будем использовать как validation dataset\n",
    "val_size = 0.2\n",
    "\n",
    "X_train, X_val, y_train, y_val = train_test_split(x_data, y_data, test_size=val_size, shuffle=True)\n",
    "print('Data points in train set: {0}.'.format(len(X_train)))\n",
    "print('Data points in val set: {0}.'.format(len(X_val)))\n",
    "print(\"Shape of features in training data: {}\".format(X_train.shape))\n",
    "print(\"Shape of output in training data: {}\".format(y_train.shape))\n",
    "print(\"Shape of features in val data: {}\".format(X_val.shape))\n",
    "print(\"Shape of output in val data: {}\".format(y_val.shape))"
   ]
  },
  {
   "cell_type": "markdown",
   "metadata": {},
   "source": [
    "## Применяем метод К-ближайших соседей"
   ]
  },
  {
   "cell_type": "code",
   "execution_count": 7,
   "metadata": {
    "collapsed": false
   },
   "outputs": [
    {
     "name": "stdout",
     "output_type": "stream",
     "text": [
      "Coefficient of determination: 0.36\n"
     ]
    }
   ],
   "source": [
    "# Потроим \"модель\"\n",
    "# https://scikit-learn.org/stable/modules/generated/sklearn.neighbors.KNeighborsClassifier.html\n",
    "K = 29\n",
    "knn = KNeighborsRegressor(n_neighbors=K, weights = \"distance\")\n",
    "knn.fit(X_train, y_train)\n",
    "\n",
    "# Применяем\n",
    "y_pred = knn.predict(X_val)\n",
    "\n",
    "# Посчитаем Коэффициент детерминации\n",
    "# https://en.wikipedia.org/wiki/Coefficient_of_determination\n",
    "print('Coefficient of determination: %.2f'\n",
    "      % r2_score(y_val, y_pred))"
   ]
  },
  {
   "cell_type": "markdown",
   "metadata": {},
   "source": [
    "## Задание 1 : Испольйте дополнительных входные переменные (10 балов)"
   ]
  },
  {
   "cell_type": "code",
   "execution_count": 8,
   "metadata": {
    "collapsed": true
   },
   "outputs": [],
   "source": [
    "# Разширить датасет чтобы было больше параметров на вход\n",
    "\n"
   ]
  },
  {
   "cell_type": "code",
   "execution_count": 9,
   "metadata": {
    "collapsed": true
   },
   "outputs": [],
   "source": [
    "# не забудьте нормализовать данные\n"
   ]
  },
  {
   "cell_type": "code",
   "execution_count": 10,
   "metadata": {
    "collapsed": true
   },
   "outputs": [],
   "source": [
    "# разделить датасет на train и val"
   ]
  },
  {
   "cell_type": "code",
   "execution_count": 11,
   "metadata": {
    "collapsed": true
   },
   "outputs": [],
   "source": [
    "# применить к-ближайших соседей и оценить результат\n",
    "# можете ли вы получить результат который лучше чем раньше когды было меньше входных данных"
   ]
  },
  {
   "cell_type": "markdown",
   "metadata": {},
   "source": [
    "## Задание 2 : Проанализировать оптимальное значение параметра К (15 балов)"
   ]
  },
  {
   "cell_type": "code",
   "execution_count": 12,
   "metadata": {
    "collapsed": true
   },
   "outputs": [],
   "source": [
    "# Пробовать разные значения К и сохранить результаты\n"
   ]
  },
  {
   "cell_type": "code",
   "execution_count": 13,
   "metadata": {
    "collapsed": true
   },
   "outputs": [],
   "source": [
    "# Построить график Коэффициент детерминации в зависимости от К\n"
   ]
  },
  {
   "cell_type": "code",
   "execution_count": 14,
   "metadata": {
    "collapsed": true
   },
   "outputs": [],
   "source": [
    "# Наблюдаем ли мы overfitting? почему?"
   ]
  },
  {
   "cell_type": "markdown",
   "metadata": {},
   "source": [
    "## Задание 3 : Сравнить результат метода К-ближайших соседей и полиномиальной регрессии (25 балов)"
   ]
  },
  {
   "cell_type": "code",
   "execution_count": 15,
   "metadata": {
    "collapsed": true
   },
   "outputs": [],
   "source": [
    "# 3.1 Применить полиномиальную регрессию на том же датасете"
   ]
  },
  {
   "cell_type": "code",
   "execution_count": 16,
   "metadata": {
    "collapsed": true
   },
   "outputs": [],
   "source": [
    "# 3.2 Найти наилучшую степень полинома\n"
   ]
  },
  {
   "cell_type": "code",
   "execution_count": 11,
   "metadata": {
    "collapsed": true
   },
   "outputs": [],
   "source": [
    "# 3.3 сравнить коефициент детерминации регрессии и метода К-ближайших соседей"
   ]
  },
  {
   "cell_type": "code",
   "execution_count": 12,
   "metadata": {
    "collapsed": true
   },
   "outputs": [],
   "source": [
    "# проделать шаги 3.1 3.2 и 3.3 для двух других датасетов:\n"
   ]
  },
  {
   "cell_type": "code",
   "execution_count": 13,
   "metadata": {
    "collapsed": true
   },
   "outputs": [],
   "source": [
    "# Датасет 1 про потребления электричества в Стокгольме\n",
    "date_start = '2008-01-01'\n",
    "date_end = '2019-05-18'\n",
    "area = 'STH'\n",
    "url_base = 'https://mimer.svk.se/'\n",
    "url_target = 'ConsumptionProfile/DownloadText?groupByType=0&' + \\\n",
    "             'periodFrom='+date_start+'&' + \\\n",
    "             'periodTo='+date_end+'&' + \\\n",
    "             'networkAreaIdString='+area\n",
    "\n",
    "# \n",
    "url = url_base+url_target\n",
    "df_load = pd.read_csv(url, sep=';', header=1, decimal=',', usecols=[0,1], names=['Datetime', 'Load'])\n",
    "df_load = df_load[:-1]\n",
    "df_load.index = pd.to_datetime(df_load['Datetime'])\n",
    "df_load = df_load.drop(columns='Datetime')\n",
    "df_load['Load'] = -df_load['Load']/10**3\n",
    "\n",
    "location = ('Stockholm A', 98230)\n",
    "url = 'http://opendata-download-metobs.smhi.se/api/version/1.0/parameter/1/station/' + str(location[1]) + '/period/corrected-archive/data.csv'\n",
    "r = requests.get(url)\n",
    "decoded_content = r.content.decode('utf-8')\n",
    "data = list(csv.reader(decoded_content.splitlines(), delimiter=';'))\n",
    "\n",
    "header = 10\n",
    "datetime = []\n",
    "values = []\n",
    "for d in data[header:]:\n",
    "    datetime.append(d[0]+' '+d[1])\n",
    "    values.append(float(d[2]))\n",
    "df_temp = pd.DataFrame(data=values, index=pd.to_datetime(datetime), columns=['Temperature'])\n",
    "\n",
    "df = pd.concat([df_load, df_temp*10], axis=1).dropna()"
   ]
  },
  {
   "cell_type": "code",
   "execution_count": 17,
   "metadata": {
    "collapsed": false
   },
   "outputs": [
    {
     "name": "stdout",
     "output_type": "stream",
     "text": [
      "Index(['Город', 'Years of experience', 'Стаж на текущем месте работы',\n",
      "       'Специализация', 'Salary', 'Прибавка к зарплате', 'Размер компании',\n",
      "       'Стаж', 'Стаж на текущем месте работы.1', 'ЗП'],\n",
      "      dtype='object')\n"
     ]
    }
   ],
   "source": [
    "# Датасет 2: про зарплаты програмистов в Украине 10 лет назад\n",
    "data_file = \"../data/data_salaries_2010.csv\"\n",
    "df = pd.read_csv(data_file, encoding = \"utf-8\" , engine='python')\n",
    "print(df.columns)\n"
   ]
  },
  {
   "cell_type": "markdown",
   "metadata": {},
   "source": [
    "## Задание 4 (20 балов): Проанализировать какой метод лучше работает в каких обстоятельствах"
   ]
  },
  {
   "cell_type": "code",
   "execution_count": 21,
   "metadata": {
    "collapsed": true
   },
   "outputs": [],
   "source": [
    "# На основе результатов из задания 3 написать разсуждения на тему \"В каких случаях лучше использовать полиномиальную регресию, а когда - метод К-следних\""
   ]
  },
  {
   "cell_type": "code",
   "execution_count": null,
   "metadata": {
    "collapsed": true
   },
   "outputs": [],
   "source": []
  }
 ],
 "metadata": {
  "anaconda-cloud": {},
  "kernelspec": {
   "display_name": "laba_env",
   "language": "python",
   "name": "laba_env"
  },
  "language_info": {
   "codemirror_mode": {
    "name": "ipython",
    "version": 3
   },
   "file_extension": ".py",
   "mimetype": "text/x-python",
   "name": "python",
   "nbconvert_exporter": "python",
   "pygments_lexer": "ipython3",
   "version": "3.6.12"
  }
 },
 "nbformat": 4,
 "nbformat_minor": 2
}
